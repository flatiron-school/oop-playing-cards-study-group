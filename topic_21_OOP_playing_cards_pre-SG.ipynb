{
 "cells": [
  {
   "cell_type": "markdown",
   "metadata": {},
   "source": [
    "# Topic 21: Object-Oriented Programming "
   ]
  },
  {
   "cell_type": "markdown",
   "metadata": {},
   "source": [
    "- onl01-dtsc-ft-022221\n",
    "- 04/27/21"
   ]
  },
  {
   "cell_type": "markdown",
   "metadata": {},
   "source": [
    "## Topics"
   ]
  },
  {
   "cell_type": "markdown",
   "metadata": {
    "ExecuteTime": {
     "end_time": "2020-03-04T22:48:55.304853Z",
     "start_time": "2020-03-04T22:48:55.299479Z"
    }
   },
   "source": [
    "- **OOP-Vocabulary**\n",
    "- **Defining/Initializing Classes**\n",
    "- **Inspecting classes:**\n",
    "    - `help(obj)` vs `dir(obj)`\n",
    "    \n",
    "- **Deeper dive into Classes/Objects**\n",
    "    - special methods/properties (`__repr__(),__str__(),__call__(),__version__(),__name__()`)\n",
    "    - Methods: vs Bound Methods vs Static Methods \n",
    "    \n",
    "- **Extended Activity: Building a Deck of PlayingCards**"
   ]
  },
  {
   "cell_type": "markdown",
   "metadata": {},
   "source": [
    "## Questions?\n"
   ]
  },
  {
   "cell_type": "markdown",
   "metadata": {},
   "source": [
    "- "
   ]
  },
  {
   "cell_type": "markdown",
   "metadata": {
    "heading_collapsed": true
   },
   "source": [
    "# What does it mean to be 'Object-Oriented'?"
   ]
  },
  {
   "cell_type": "markdown",
   "metadata": {
    "hidden": true
   },
   "source": [
    "> ### ___\"Everything is an object.\"___\n",
    "- some Python sensei"
   ]
  },
  {
   "cell_type": "markdown",
   "metadata": {
    "hidden": true
   },
   "source": [
    "- Any function, method, class, variable are ALL objects. \n",
    "    - Built from a template Class\n",
    "    - Can be stored in memory under any name "
   ]
  },
  {
   "cell_type": "code",
   "execution_count": null,
   "metadata": {
    "ExecuteTime": {
     "end_time": "2021-04-27T15:01:01.958865Z",
     "start_time": "2021-04-27T15:01:01.948153Z"
    },
    "hidden": true
   },
   "outputs": [],
   "source": [
    "## Any function can be assigned to a new variable and will behave the same way\n",
    "prove_it = print\n",
    "prove_it"
   ]
  },
  {
   "cell_type": "code",
   "execution_count": null,
   "metadata": {
    "ExecuteTime": {
     "end_time": "2021-04-27T15:01:01.965741Z",
     "start_time": "2021-04-27T15:01:01.961924Z"
    },
    "hidden": true
   },
   "outputs": [],
   "source": [
    "prove_it(\"This is now equal to print.\")"
   ]
  },
  {
   "cell_type": "code",
   "execution_count": null,
   "metadata": {
    "ExecuteTime": {
     "end_time": "2021-04-27T15:01:01.972776Z",
     "start_time": "2021-04-27T15:01:01.969224Z"
    },
    "hidden": true
   },
   "outputs": [],
   "source": [
    "help(prove_it)"
   ]
  },
  {
   "cell_type": "code",
   "execution_count": null,
   "metadata": {
    "ExecuteTime": {
     "end_time": "2021-04-27T15:01:01.979311Z",
     "start_time": "2021-04-27T15:01:01.975128Z"
    },
    "hidden": true
   },
   "outputs": [],
   "source": [
    "prove_it.__name__"
   ]
  },
  {
   "cell_type": "markdown",
   "metadata": {
    "heading_collapsed": true
   },
   "source": [
    "# Defining Functions\n"
   ]
  },
  {
   "cell_type": "markdown",
   "metadata": {
    "ExecuteTime": {
     "end_time": "2020-03-04T22:50:13.264632Z",
     "start_time": "2020-03-04T22:50:13.257093Z"
    },
    "hidden": true
   },
   "source": [
    "- **Function: A resuable, fleixbile block of code that runs a process**  \n",
    "\n",
    "    - Parameters: inputs that are expected by python/that function\n",
    "    \n",
    "    - Argument: the actual value/variable passed into the function. \n",
    "        - Positional Argument:\n",
    "        - Keyword/default Arguments:\n",
    "\n",
    "- \"Calling\" a function: `( )`"
   ]
  },
  {
   "cell_type": "code",
   "execution_count": null,
   "metadata": {
    "ExecuteTime": {
     "end_time": "2021-04-27T15:01:01.985191Z",
     "start_time": "2021-04-27T15:01:01.982055Z"
    },
    "hidden": true
   },
   "outputs": [],
   "source": [
    "def my_func(posarg1, \n",
    "            posarg2, kwarg1='example',kwarg2='example2'):\n",
    "    print('positional arguments:')\n",
    "    print(f\"    {posarg1}, {posarg2}\")\n",
    "    \n",
    "    print(\"keyword arguments:\")\n",
    "    print(f\"    kwarg1={kwarg1}\")\n",
    "    print(f\"    kwarg2={kwarg2}\")"
   ]
  },
  {
   "cell_type": "code",
   "execution_count": null,
   "metadata": {
    "ExecuteTime": {
     "end_time": "2021-04-27T15:01:01.992219Z",
     "start_time": "2021-04-27T15:01:01.988245Z"
    },
    "hidden": true
   },
   "outputs": [],
   "source": [
    "## What does my_func look like?\n",
    "my_func"
   ]
  },
  {
   "cell_type": "code",
   "execution_count": null,
   "metadata": {
    "ExecuteTime": {
     "end_time": "2021-04-27T15:01:01.998825Z",
     "start_time": "2021-04-27T15:01:01.995679Z"
    },
    "hidden": true
   },
   "outputs": [],
   "source": [
    "## Run my_func with posarg1=1,posarg2=2\n",
    "my_func(1,2)"
   ]
  },
  {
   "cell_type": "code",
   "execution_count": null,
   "metadata": {
    "ExecuteTime": {
     "end_time": "2021-04-27T15:01:02.004266Z",
     "start_time": "2021-04-27T15:01:02.000751Z"
    },
    "hidden": true
   },
   "outputs": [],
   "source": [
    "## Change kwarg1 to something else\n",
    "my_func(1,2,kwarg1='something else')"
   ]
  },
  {
   "cell_type": "markdown",
   "metadata": {
    "heading_collapsed": true
   },
   "source": [
    "# Defining and Initializing Classes\n"
   ]
  },
  {
   "cell_type": "markdown",
   "metadata": {
    "hidden": true
   },
   "source": [
    "- Use `class NewClassName():` like you use `def function_name():` for functions.\n",
    "    - the `()` are optional for classes. (used to inherit other classes, more on that later)"
   ]
  },
  {
   "cell_type": "markdown",
   "metadata": {
    "hidden": true
   },
   "source": [
    "#### Naming Classes\n",
    "    \n",
    "- Convention for naming classes = `UpperCamelCase`\n",
    "- Convention for naming function = `snake_case`"
   ]
  },
  {
   "cell_type": "code",
   "execution_count": null,
   "metadata": {
    "ExecuteTime": {
     "end_time": "2021-04-27T15:01:02.009897Z",
     "start_time": "2021-04-27T15:01:02.007177Z"
    },
    "hidden": true
   },
   "outputs": [],
   "source": [
    "## Bare minimum to define a class.\n",
    "class PlayingCard:\n",
    "    pass"
   ]
  },
  {
   "cell_type": "markdown",
   "metadata": {
    "hidden": true
   },
   "source": [
    "## Attributes and Methods"
   ]
  },
  {
   "cell_type": "markdown",
   "metadata": {
    "hidden": true
   },
   "source": [
    "- Attribute: a variable is stored inside a class/object\n",
    "\n",
    "- Method: a function that is stored inside of and (usually) operates on the object/class"
   ]
  },
  {
   "cell_type": "markdown",
   "metadata": {
    "hidden": true
   },
   "source": [
    "## What makes a PlayingCard?"
   ]
  },
  {
   "cell_type": "markdown",
   "metadata": {
    "hidden": true
   },
   "source": [
    "***Card:***\n",
    "- *Value / Name*:\n",
    "    - 2, 3, 4, 5, 6, 7, 8, 9, 10, J, Q, K, A\n",
    "- *Suit*:\n",
    "    - Hearts (H), Spades(S), Clubs(C), Diamonds(D) \n",
    "- *Color*:\n",
    "    - black or red"
   ]
  },
  {
   "cell_type": "code",
   "execution_count": null,
   "metadata": {
    "ExecuteTime": {
     "end_time": "2021-04-27T15:35:47.743343Z",
     "start_time": "2021-04-27T15:35:47.740546Z"
    },
    "hidden": true
   },
   "outputs": [],
   "source": [
    "## Make a new PlayingCard class with a value of 2 and a suit of spades, and color=black\n",
    "class PlayingCard:\n",
    "    pass"
   ]
  },
  {
   "cell_type": "code",
   "execution_count": null,
   "metadata": {
    "ExecuteTime": {
     "end_time": "2021-04-27T15:35:55.668462Z",
     "start_time": "2021-04-27T15:35:55.666305Z"
    },
    "hidden": true
   },
   "outputs": [],
   "source": [
    "## Make an instance of a PlayingCard and display it\n"
   ]
  },
  {
   "cell_type": "code",
   "execution_count": null,
   "metadata": {
    "ExecuteTime": {
     "end_time": "2021-04-27T15:35:58.442159Z",
     "start_time": "2021-04-27T15:35:58.440360Z"
    },
    "hidden": true
   },
   "outputs": [],
   "source": [
    "## Print out the vard's value and suit in one statement\n"
   ]
  },
  {
   "cell_type": "markdown",
   "metadata": {
    "hidden": true
   },
   "source": [
    "> Improving our class: let's add a `.flip()` method that will print the value and suit. \n"
   ]
  },
  {
   "cell_type": "code",
   "execution_count": null,
   "metadata": {
    "ExecuteTime": {
     "end_time": "2021-04-27T15:36:06.731690Z",
     "start_time": "2021-04-27T15:36:06.729581Z"
    },
    "hidden": true
   },
   "outputs": [],
   "source": [
    "## Copy previous version of class and add the .flip method.\n"
   ]
  },
  {
   "cell_type": "code",
   "execution_count": null,
   "metadata": {
    "ExecuteTime": {
     "end_time": "2021-04-27T15:36:12.255400Z",
     "start_time": "2021-04-27T15:36:12.253316Z"
    },
    "hidden": true
   },
   "outputs": [],
   "source": [
    "## Insantiate a playing card and run .flip()    \n"
   ]
  },
  {
   "cell_type": "markdown",
   "metadata": {
    "hidden": true
   },
   "source": [
    "> Ruh roh! What happened?! What does the error message mean?"
   ]
  },
  {
   "cell_type": "markdown",
   "metadata": {
    "hidden": true
   },
   "source": [
    "### Know thy `self`"
   ]
  },
  {
   "cell_type": "markdown",
   "metadata": {
    "hidden": true
   },
   "source": [
    "- Because Methods are designed to operate on the `object_its.attached_to()`, Python automatically gives every method a copy of instance its attached to, which we call `self`\n",
    "- We have to pass `self` as the first parameter for every method we make.\n",
    "- Otherwise it will think that the first thing we give it is actually itself. This will cause an *existential crisis** and corresponding error."
   ]
  },
  {
   "cell_type": "code",
   "execution_count": null,
   "metadata": {
    "ExecuteTime": {
     "end_time": "2021-04-27T15:36:18.922260Z",
     "start_time": "2021-04-27T15:36:18.920460Z"
    },
    "hidden": true
   },
   "outputs": [],
   "source": [
    "## Update our class by adding self where its needed.\n",
    "\n",
    "        "
   ]
  },
  {
   "cell_type": "code",
   "execution_count": null,
   "metadata": {
    "ExecuteTime": {
     "end_time": "2021-04-27T15:36:23.234427Z",
     "start_time": "2021-04-27T15:36:23.232381Z"
    },
    "hidden": true
   },
   "outputs": [],
   "source": [
    "## Instantiate a playing card and test out .flip()\n"
   ]
  },
  {
   "cell_type": "markdown",
   "metadata": {
    "hidden": true
   },
   "source": [
    "## Initialization \n"
   ]
  },
  {
   "cell_type": "markdown",
   "metadata": {
    "hidden": true
   },
   "source": [
    "- As we have seen, we create an instance by setting a `instance = ClassName()`\n",
    "-  This uses the template `ClassName` to create an instance of the class ( which we named `instance`).\n",
    "> - How do we change our PlayingCard class so that we can make other cards besides the 2 of spades?"
   ]
  },
  {
   "cell_type": "markdown",
   "metadata": {
    "hidden": true
   },
   "source": [
    "### `__init__`"
   ]
  },
  {
   "cell_type": "markdown",
   "metadata": {
    "hidden": true
   },
   "source": [
    "> - When an instance is `initialized`, we `call` it using `()`, which runs a default `__init__()` method."
   ]
  },
  {
   "cell_type": "code",
   "execution_count": null,
   "metadata": {
    "ExecuteTime": {
     "end_time": "2021-04-27T15:36:37.782107Z",
     "start_time": "2021-04-27T15:36:37.779409Z"
    },
    "hidden": true
   },
   "outputs": [],
   "source": [
    "## Update our class by adding an __init__ that controls value, suit, color\n",
    "class PlayingCard:\n",
    "\n",
    "    def __init__(self, value, suit):\n",
    "        \"\"\"Creates a playing card instance with the specified value and suit\n",
    "        Value should be 2-10, or J,Q,K,A\n",
    "        Suit should be 'H','D','C','S'\n",
    "        \"\"\"\n",
    "        pass\n",
    "        "
   ]
  },
  {
   "cell_type": "code",
   "execution_count": null,
   "metadata": {
    "ExecuteTime": {
     "end_time": "2021-04-27T15:36:40.697981Z",
     "start_time": "2021-04-27T15:36:40.696178Z"
    },
    "hidden": true
   },
   "outputs": [],
   "source": [
    "## test out our updated playing card class by making  card1 = a 'J of Hearts'\n"
   ]
  },
  {
   "cell_type": "code",
   "execution_count": null,
   "metadata": {
    "ExecuteTime": {
     "end_time": "2021-04-27T15:36:44.744805Z",
     "start_time": "2021-04-27T15:36:44.742956Z"
    },
    "hidden": true
   },
   "outputs": [],
   "source": [
    "## test out our updated playing card class by making a card2 a 7 of Spades\n"
   ]
  },
  {
   "cell_type": "markdown",
   "metadata": {
    "hidden": true
   },
   "source": [
    "### is card 1 greater than card 2?"
   ]
  },
  {
   "cell_type": "code",
   "execution_count": null,
   "metadata": {
    "ExecuteTime": {
     "end_time": "2021-04-27T15:01:38.143611Z",
     "start_time": "2021-04-27T15:01:37.725482Z"
    },
    "hidden": true
   },
   "outputs": [],
   "source": []
  },
  {
   "cell_type": "markdown",
   "metadata": {
    "heading_collapsed": true
   },
   "source": [
    "# Special Class Methods"
   ]
  },
  {
   "cell_type": "markdown",
   "metadata": {
    "hidden": true
   },
   "source": [
    "#### Special Methods\n",
    "\n",
    "It is common for a class to have magic methods. These are identifiable by the \"dunder\" (i.e. **d**ouble **under**score) prefixes and suffixes, such as `__init__()`. These methods will get called **automatically**, as we'll see below.\n",
    "\n",
    "For more on these \"magic methods\", see [here](https://www.geeksforgeeks.org/dunder-magic-methods-python/)."
   ]
  },
  {
   "cell_type": "markdown",
   "metadata": {
    "hidden": true
   },
   "source": [
    "## Using Special Methods to evaluate comparisons "
   ]
  },
  {
   "cell_type": "markdown",
   "metadata": {
    "hidden": true
   },
   "source": [
    "### `__gt__` & `__lt__`:\n"
   ]
  },
  {
   "cell_type": "code",
   "execution_count": null,
   "metadata": {
    "ExecuteTime": {
     "end_time": "2021-04-27T15:37:04.074906Z",
     "start_time": "2021-04-27T15:37:04.073083Z"
    },
    "hidden": true
   },
   "outputs": [],
   "source": [
    "## Add a __gt__ and __lt__ method to compare self to other\n"
   ]
  },
  {
   "cell_type": "code",
   "execution_count": null,
   "metadata": {
    "ExecuteTime": {
     "end_time": "2021-04-27T15:37:12.233896Z",
     "start_time": "2021-04-27T15:37:12.231974Z"
    },
    "hidden": true
   },
   "outputs": [],
   "source": [
    "## Remake card 1 and card2 and test if card1>card2\n",
    "# card1 = PlayingCard('J','H')\n",
    "# card1.flip()\n",
    "\n",
    "# card2 = PlayingCard(7,'S')\n",
    "# card2.flip()\n",
    "# card1>card2"
   ]
  },
  {
   "cell_type": "markdown",
   "metadata": {
    "hidden": true
   },
   "source": [
    "> - Ruh Roh! We can't compare a str and an int! Let's fix this with out `__init__ `\n",
    "\n"
   ]
  },
  {
   "cell_type": "markdown",
   "metadata": {
    "hidden": true
   },
   "source": [
    "#### Adding our card's value"
   ]
  },
  {
   "cell_type": "markdown",
   "metadata": {
    "hidden": true
   },
   "source": [
    "- Create a string-based `name` for the card\n",
    "    - Update `.flip()` to use `name` instead of `value`\n",
    "- Save the numeric `value` of the card for comparison\n",
    "- "
   ]
  },
  {
   "cell_type": "code",
   "execution_count": null,
   "metadata": {
    "ExecuteTime": {
     "end_time": "2021-04-27T15:01:45.039095Z",
     "start_time": "2021-04-27T15:01:45.034578Z"
    },
    "hidden": true
   },
   "outputs": [],
   "source": [
    "## Value dictionary for lookup \n",
    "value_dct = {\n",
    "    '2': 2,'3': 3, '4': 4, '5': 5, '6': 6,\n",
    "    '7': 7, '8': 8, '9': 9, '10': 10,\n",
    "    'J': 11,'Q': 12, 'K': 13, 'A': 14\n",
    "    }\n",
    "value_dct"
   ]
  },
  {
   "cell_type": "code",
   "execution_count": null,
   "metadata": {
    "ExecuteTime": {
     "end_time": "2021-04-27T15:37:26.465961Z",
     "start_time": "2021-04-27T15:37:26.464297Z"
    },
    "hidden": true
   },
   "outputs": [],
   "source": [
    "## Create a string-based name for the card\n",
    "# save the numeric value of the card for comparison\n",
    "\n"
   ]
  },
  {
   "cell_type": "code",
   "execution_count": null,
   "metadata": {
    "ExecuteTime": {
     "end_time": "2021-04-27T15:37:29.805021Z",
     "start_time": "2021-04-27T15:37:29.803112Z"
    },
    "hidden": true
   },
   "outputs": [],
   "source": [
    "## Run this cell to test our value comparison from before\n",
    "# card1 = PlayingCard('J','H')\n",
    "# card1.flip()\n",
    "\n",
    "# card2 = PlayingCard(7,'S')\n",
    "# card2.flip()\n",
    "\n",
    "# card1>card2"
   ]
  },
  {
   "cell_type": "code",
   "execution_count": null,
   "metadata": {
    "ExecuteTime": {
     "end_time": "2021-04-27T15:37:33.662433Z",
     "start_time": "2021-04-27T15:37:33.660714Z"
    },
    "hidden": true
   },
   "outputs": [],
   "source": [
    "## What about card1<card2?\n",
    "# card1<card2"
   ]
  },
  {
   "cell_type": "markdown",
   "metadata": {
    "hidden": true
   },
   "source": [
    "> Success! This is great and all, but the PlayingCard isn't terribly fun-looking "
   ]
  },
  {
   "cell_type": "code",
   "execution_count": null,
   "metadata": {
    "ExecuteTime": {
     "end_time": "2021-04-27T15:01:51.243766Z",
     "start_time": "2021-04-27T15:01:51.241003Z"
    },
    "hidden": true
   },
   "outputs": [],
   "source": [
    "## Display card1\n",
    "card1"
   ]
  },
  {
   "cell_type": "markdown",
   "metadata": {
    "hidden": true
   },
   "source": [
    "## Using special methods to control the output of a class"
   ]
  },
  {
   "cell_type": "code",
   "execution_count": null,
   "metadata": {
    "ExecuteTime": {
     "end_time": "2021-04-27T15:38:12.634308Z",
     "start_time": "2021-04-27T15:38:12.630290Z"
    },
    "hidden": true
   },
   "outputs": [],
   "source": [
    "## Display card 1\n",
    "card1 = PlayingCard('J','H')\n",
    "print(card1)\n",
    "card1"
   ]
  },
  {
   "cell_type": "markdown",
   "metadata": {
    "hidden": true
   },
   "source": [
    "### `__repr__()`  &  `__str__()`\n",
    "\n",
    "- Whenever an object is displayed, it runs the object's  `__repr__()` method. \n",
    "- Whenever an object is printed, it runs the  `__str__()` method.\n",
    "\n",
    "- They are both designed to return string-representations of the object. \n",
    "    - But `__repr__()` focuses on minimizing ambiguity while `__str__()` focuses on readability. \n",
    "- However, if your class has no `__str__()` method, it will fall back on `__repr__()` (if it exists!). \n",
    "    - For more on this distinction, see [this post](https://dbader.org/blog/python-repr-vs-str)."
   ]
  },
  {
   "cell_type": "markdown",
   "metadata": {
    "ExecuteTime": {
     "end_time": "2021-04-27T15:05:03.363642Z",
     "start_time": "2021-04-27T15:05:03.361951Z"
    },
    "hidden": true
   },
   "source": [
    "### Add a `__repr__` and ` __str__` method to our PlayingCard"
   ]
  },
  {
   "cell_type": "markdown",
   "metadata": {
    "hidden": true
   },
   "source": [
    "- have `__repr__` return 'An Instance of a PlayingCard'\n",
    "- have `__str__` return \"A Playing Card\""
   ]
  },
  {
   "cell_type": "code",
   "execution_count": null,
   "metadata": {
    "ExecuteTime": {
     "end_time": "2021-04-27T15:06:18.907145Z",
     "start_time": "2021-04-27T15:06:18.902120Z"
    },
    "hidden": true
   },
   "outputs": [],
   "source": [
    "### add a __repr__() method that returns \"A Playing Card\"\n"
   ]
  },
  {
   "cell_type": "code",
   "execution_count": null,
   "metadata": {
    "ExecuteTime": {
     "end_time": "2021-04-27T15:38:55.788206Z",
     "start_time": "2021-04-27T15:38:55.785500Z"
    },
    "hidden": true
   },
   "outputs": [],
   "source": [
    "## Test out our __repr__ & __str__\n"
   ]
  },
  {
   "cell_type": "markdown",
   "metadata": {
    "hidden": true
   },
   "source": [
    "### Making Things More Interesting"
   ]
  },
  {
   "cell_type": "markdown",
   "metadata": {
    "hidden": true
   },
   "source": [
    "-  Instead of our text-based `__repr__` and `__str__`, let's be sneaky and use an image of card back for our `__repr__`.\n",
    "\n",
    "<img src=\"card_back.png\" width=100>"
   ]
  },
  {
   "cell_type": "code",
   "execution_count": null,
   "metadata": {
    "ExecuteTime": {
     "end_time": "2021-04-27T15:07:13.299889Z",
     "start_time": "2021-04-27T15:07:13.277097Z"
    },
    "hidden": true
   },
   "outputs": [],
   "source": [
    "from PIL import Image\n",
    "img = Image.open(\"card_back.png\")\n",
    "img.resize((100,150))"
   ]
  },
  {
   "cell_type": "markdown",
   "metadata": {
    "hidden": true
   },
   "source": [
    "> - Add a `back` attribute that stores the image of the card. \n",
    "- Replace our `__repr__` with display the image\n",
    "    - Go ahead and delete our `__str__` since we want it to behave the same as `__repr__` anyway"
   ]
  },
  {
   "cell_type": "code",
   "execution_count": null,
   "metadata": {
    "ExecuteTime": {
     "end_time": "2021-04-27T15:39:09.666370Z",
     "start_time": "2021-04-27T15:39:09.664304Z"
    },
    "hidden": true
   },
   "outputs": [],
   "source": [
    "### add a .back containing the stored image of the card.\n"
   ]
  },
  {
   "cell_type": "code",
   "execution_count": null,
   "metadata": {
    "ExecuteTime": {
     "end_time": "2021-04-27T15:39:13.912010Z",
     "start_time": "2021-04-27T15:39:13.910119Z"
    },
    "hidden": true
   },
   "outputs": [],
   "source": [
    "## Test out our __repr__\n"
   ]
  },
  {
   "cell_type": "code",
   "execution_count": null,
   "metadata": {
    "ExecuteTime": {
     "end_time": "2021-04-27T15:39:19.778721Z",
     "start_time": "2021-04-27T15:39:19.776887Z"
    },
    "hidden": true
   },
   "outputs": [],
   "source": [
    "## Test __str__\n"
   ]
  },
  {
   "cell_type": "code",
   "execution_count": null,
   "metadata": {
    "ExecuteTime": {
     "end_time": "2021-04-27T15:39:34.128307Z",
     "start_time": "2021-04-27T15:39:34.126479Z"
    },
    "hidden": true
   },
   "outputs": [],
   "source": [
    "## Flip for sanity check\n"
   ]
  },
  {
   "cell_type": "markdown",
   "metadata": {
    "hidden": true
   },
   "source": [
    "> Success!"
   ]
  },
  {
   "cell_type": "markdown",
   "metadata": {
    "hidden": true
   },
   "source": [
    "### Making our class even MORE fun "
   ]
  },
  {
   "cell_type": "markdown",
   "metadata": {
    "hidden": true
   },
   "source": [
    "- Our `.flip()` method is kind of boring compared to our `__repr__`\n",
    "- If only we had some way of using symbols in our text instead of just boring old font.... 🤔"
   ]
  },
  {
   "cell_type": "code",
   "execution_count": null,
   "metadata": {
    "ExecuteTime": {
     "end_time": "2021-04-27T15:10:41.376852Z",
     "start_time": "2021-04-27T15:10:41.373914Z"
    },
    "hidden": true
   },
   "outputs": [],
   "source": [
    "symbols = {'S':'♠️','C':'♣️','D':'♦️','H':'♥️'}\n",
    "symbols"
   ]
  },
  {
   "cell_type": "markdown",
   "metadata": {
    "hidden": true
   },
   "source": [
    "> #### Use these emoji symbols plus the provided make_ascii_card to overhaul our class's .flip()"
   ]
  },
  {
   "cell_type": "code",
   "execution_count": null,
   "metadata": {
    "ExecuteTime": {
     "end_time": "2021-04-27T15:39:49.480932Z",
     "start_time": "2021-04-27T15:39:49.476081Z"
    },
    "hidden": true
   },
   "outputs": [],
   "source": [
    "def make_ascii_card(name, suit):\n",
    "    \"\"\"Ascii Card adapted from: https://codereview.stackexchange.com/questions/82103/ascii-fication-of-playing-cards\n",
    "    \"\"\"\n",
    "    symbols = {'S':'♠️','C':'♣️',\n",
    "               'D':'♦️','H':'♥️'}\n",
    "    suit_symbol = symbols[suit]\n",
    "    if name == '10':\n",
    "        space=''\n",
    "    else:\n",
    "        space = ' '\n",
    "\n",
    "    # add the individual card on a line by line basis\n",
    "    _ascii=[]\n",
    "    _ascii.append('┌─────────┐')\n",
    "    _ascii.append(f'│{name}{space}       │')#.format(rank, space))  # use two {} one for char, one for space or char\n",
    "    _ascii.append('│         │')\n",
    "    _ascii.append('│         │')\n",
    "    _ascii.append(f'│    {suit_symbol}   │') #.format(suit))\n",
    "    _ascii.append('│         │')\n",
    "    _ascii.append('│         │')\n",
    "    _ascii.append(f'│       {space}{name}│')#.format(space, rank))\n",
    "    _ascii.append('└─────────┘')\n",
    "    \n",
    "    return '\\n'.join(_ascii)"
   ]
  },
  {
   "cell_type": "code",
   "execution_count": null,
   "metadata": {
    "ExecuteTime": {
     "end_time": "2021-04-27T15:40:03.610773Z",
     "start_time": "2021-04-27T15:40:03.608954Z"
    },
    "hidden": true
   },
   "outputs": [],
   "source": [
    "## test our make_ascii_card by making an Ace of Diamonds\n"
   ]
  },
  {
   "cell_type": "markdown",
   "metadata": {
    "hidden": true
   },
   "source": [
    "> - Add a .face containing the stored ascii version of the card.\n",
    "- Change `.flip()` to use the new face.\n"
   ]
  },
  {
   "cell_type": "code",
   "execution_count": null,
   "metadata": {
    "ExecuteTime": {
     "end_time": "2021-04-27T15:40:08.436367Z",
     "start_time": "2021-04-27T15:40:08.434539Z"
    },
    "hidden": true
   },
   "outputs": [],
   "source": [
    "### add a .face containing the stored ascii version of the card.\n"
   ]
  },
  {
   "cell_type": "code",
   "execution_count": null,
   "metadata": {
    "ExecuteTime": {
     "end_time": "2021-04-27T15:14:30.595365Z",
     "start_time": "2021-04-27T15:14:30.565917Z"
    },
    "hidden": true
   },
   "outputs": [],
   "source": [
    "## Run this cell to test our value comparison from before\n",
    "card1 = PlayingCard('J','H')\n",
    "card1.flip()\n",
    "\n",
    "card2 = PlayingCard(7,'S')\n",
    "card2.flip()\n",
    "\n",
    "card1>card2"
   ]
  },
  {
   "cell_type": "markdown",
   "metadata": {
    "hidden": true
   },
   "source": [
    "> Yay!!! We are HUGE nerds but yay!!!!"
   ]
  },
  {
   "cell_type": "markdown",
   "metadata": {
    "heading_collapsed": true
   },
   "source": [
    "# NEXT: two options"
   ]
  },
  {
   "cell_type": "markdown",
   "metadata": {
    "hidden": true
   },
   "source": [
    "1. Option 1: Make a `Deck` of `PlayingCards` to explore some additional special methods.\n",
    "\n",
    "2. Option 2: Discuss Inheritance and make our own OneHotEncoder that is more convient than the default"
   ]
  },
  {
   "cell_type": "markdown",
   "metadata": {
    "hidden": true
   },
   "source": [
    "## Option 1: Make a `Deck` to Explore some additional special methods. "
   ]
  },
  {
   "cell_type": "markdown",
   "metadata": {
    "hidden": true
   },
   "source": [
    "### Overview - Whats in a Deck?\n",
    "\n",
    "***A Deck***\n",
    "- \"a collection of Cards\"\n",
    "    - Contains all standard 52 cards in a `.cards` attribute.\n",
    "- Has a  `.shuffle()` method.\n",
    "- Returns the number of cards in the deck as the `__repr__`\n",
    "\n",
    "- Has a `__getitem__` method to make the deck subscriptable"
   ]
  },
  {
   "cell_type": "code",
   "execution_count": null,
   "metadata": {
    "ExecuteTime": {
     "end_time": "2021-04-27T15:21:14.237671Z",
     "start_time": "2021-04-27T15:21:14.234542Z"
    },
    "hidden": true
   },
   "outputs": [],
   "source": [
    "import numpy as np\n",
    "class Deck:\n",
    "    \n",
    "    cards = []\n",
    "    def __init__(self):\n",
    "        pass\n",
    "\n",
    "    \n",
    "    def shuffle(self):\n",
    "        pass\n",
    "\n",
    "    def __repr__(self):\n",
    "        return f\"There are {len(self.cards)} cards in the deck.\"\n",
    "\n",
    "\n",
    "    def __getitem__(self):\n",
    "        pass\n"
   ]
  },
  {
   "cell_type": "code",
   "execution_count": null,
   "metadata": {
    "hidden": true
   },
   "outputs": [],
   "source": [
    "## Test out the Deck class by running the next cells\n",
    "deck = Deck()\n",
    "deck"
   ]
  },
  {
   "cell_type": "code",
   "execution_count": null,
   "metadata": {
    "ExecuteTime": {
     "end_time": "2021-04-27T15:21:44.380673Z",
     "start_time": "2021-04-27T15:21:44.372101Z"
    },
    "hidden": true,
    "scrolled": true
   },
   "outputs": [],
   "source": [
    "## Slice out the first .cards\n",
    "deck.cards[0]"
   ]
  },
  {
   "cell_type": "code",
   "execution_count": null,
   "metadata": {
    "ExecuteTime": {
     "end_time": "2021-04-27T15:23:07.753620Z",
     "start_time": "2021-04-27T15:23:07.750831Z"
    },
    "hidden": true
   },
   "outputs": [],
   "source": [
    "## Slice first card directly and flip\n",
    "deck[0].flip()"
   ]
  },
  {
   "cell_type": "code",
   "execution_count": null,
   "metadata": {
    "ExecuteTime": {
     "end_time": "2021-04-27T15:23:18.082274Z",
     "start_time": "2021-04-27T15:23:18.079557Z"
    },
    "hidden": true,
    "scrolled": true
   },
   "outputs": [],
   "source": [
    "## shuffle and flip the first card again\n",
    "deck.shuffle()\n",
    "deck[0].flip()"
   ]
  },
  {
   "cell_type": "markdown",
   "metadata": {
    "hidden": true
   },
   "source": [
    "___"
   ]
  },
  {
   "cell_type": "markdown",
   "metadata": {
    "hidden": true
   },
   "source": [
    "## Option 2: Use inheritance to make our own OneHotEncoder"
   ]
  },
  {
   "cell_type": "markdown",
   "metadata": {
    "hidden": true
   },
   "source": [
    "### Inheritance"
   ]
  },
  {
   "cell_type": "markdown",
   "metadata": {
    "hidden": true
   },
   "source": [
    "- We can inherit all of the properties of another class when we write a new one to save ourselves time and effort. "
   ]
  },
  {
   "cell_type": "code",
   "execution_count": null,
   "metadata": {
    "ExecuteTime": {
     "end_time": "2021-04-27T15:25:18.454639Z",
     "start_time": "2021-04-27T15:25:17.137337Z"
    },
    "hidden": true,
    "scrolled": false
   },
   "outputs": [],
   "source": [
    "## Getting the dataset ready (don't worry about this code for now)\n",
    "from fsds.imports import *\n",
    "df= fs.datasets.load_iowa_prisoners()\n",
    "df.fillna('MISSING',inplace=True)\n",
    "drop_cols= [col for col in df.columns if 'New' in col]\n",
    "drop_cols.append('Days to Recidivism')\n",
    "df.drop(columns=drop_cols,inplace=True)\n",
    "df.head()\n"
   ]
  },
  {
   "cell_type": "code",
   "execution_count": null,
   "metadata": {
    "ExecuteTime": {
     "end_time": "2021-04-27T15:40:35.571453Z",
     "start_time": "2021-04-27T15:40:34.231473Z"
    },
    "hidden": true
   },
   "outputs": [],
   "source": [
    "## let's encode \"ReleaseType\" using onehotencoder\n",
    "from sklearn.preprocessing import OneHotEncoder\n",
    "cols_to_encode = ['Release Type']\n",
    "\n"
   ]
  },
  {
   "cell_type": "code",
   "execution_count": null,
   "metadata": {
    "ExecuteTime": {
     "end_time": "2021-04-27T15:40:36.928490Z",
     "start_time": "2021-04-27T15:40:36.926553Z"
    },
    "hidden": true
   },
   "outputs": [],
   "source": [
    "## Turn data_ohe into a dataframe:\n"
   ]
  },
  {
   "cell_type": "markdown",
   "metadata": {
    "hidden": true
   },
   "source": [
    "### Make our own Encoder and inherit everything from OneHotEncoder "
   ]
  },
  {
   "cell_type": "code",
   "execution_count": null,
   "metadata": {
    "ExecuteTime": {
     "end_time": "2021-04-27T15:41:11.404571Z",
     "start_time": "2021-04-27T15:41:11.402592Z"
    },
    "hidden": true
   },
   "outputs": [],
   "source": [
    "## Make OurOneHotEncoder"
   ]
  },
  {
   "cell_type": "code",
   "execution_count": null,
   "metadata": {
    "ExecuteTime": {
     "end_time": "2021-04-27T15:29:46.500311Z",
     "start_time": "2021-04-27T15:29:46.494902Z"
    },
    "hidden": true
   },
   "outputs": [],
   "source": [
    "## whats inside our class??\n",
    "help(OurOneHotEncoder)"
   ]
  },
  {
   "cell_type": "markdown",
   "metadata": {
    "hidden": true
   },
   "source": [
    "### Add a method to transform the data as a dataframe."
   ]
  },
  {
   "cell_type": "code",
   "execution_count": null,
   "metadata": {
    "ExecuteTime": {
     "end_time": "2021-04-27T15:41:40.162209Z",
     "start_time": "2021-04-27T15:41:40.160001Z"
    },
    "hidden": true
   },
   "outputs": [],
   "source": [
    "## write transform_as_df and attach it to OurOneHotEncoder\n",
    "def transform_as_df():\n",
    "    pass\n",
    "  \n",
    "    \n"
   ]
  },
  {
   "cell_type": "code",
   "execution_count": null,
   "metadata": {
    "ExecuteTime": {
     "end_time": "2021-04-27T15:41:53.639002Z",
     "start_time": "2021-04-27T15:41:53.636868Z"
    },
    "hidden": true
   },
   "outputs": [],
   "source": [
    "## Test out our new transform_as_df method.\n"
   ]
  },
  {
   "cell_type": "code",
   "execution_count": null,
   "metadata": {
    "hidden": true
   },
   "outputs": [],
   "source": []
  },
  {
   "cell_type": "markdown",
   "metadata": {
    "heading_collapsed": true
   },
   "source": [
    "# Nice!"
   ]
  },
  {
   "cell_type": "markdown",
   "metadata": {
    "hidden": true
   },
   "source": [
    "## To recap, we:\n",
    "\n",
    "1. Built a Card object using `class`.\n",
    "    - Used `__init__(self)` to set attributes and run processes when the object is created.\n",
    "    - Created a method `flip(self)` which \"flips the card over\" (shows the name and suit).\n",
    "    - Experimented with `__str__` and `__repr__`.\n",
    "    - Used `__gt__` and `__lt__` to evaluate comparisons. \n",
    " \n",
    "\n",
    "  \n",
    "2. Built a Deck object that uses `Cards`!\n",
    "    - Decks can `shuffle` and are `subscriptable`\n",
    "3. We experimented with Inheritance by writing our own version of  `OneHotEncoder`"
   ]
  },
  {
   "cell_type": "code",
   "execution_count": null,
   "metadata": {
    "hidden": true
   },
   "outputs": [],
   "source": []
  }
 ],
 "metadata": {
  "kernelspec": {
   "display_name": "learn-env-new",
   "language": "python",
   "name": "learn-env-new"
  },
  "language_info": {
   "codemirror_mode": {
    "name": "ipython",
    "version": 3
   },
   "file_extension": ".py",
   "mimetype": "text/x-python",
   "name": "python",
   "nbconvert_exporter": "python",
   "pygments_lexer": "ipython3",
   "version": "3.8.5"
  },
  "toc": {
   "base_numbering": 1,
   "nav_menu": {},
   "number_sections": false,
   "sideBar": true,
   "skip_h1_title": false,
   "title_cell": "Table of Contents",
   "title_sidebar": "Contents",
   "toc_cell": false,
   "toc_position": {
    "height": "calc(100% - 180px)",
    "left": "10px",
    "top": "150px",
    "width": "256px"
   },
   "toc_section_display": true,
   "toc_window_display": true
  }
 },
 "nbformat": 4,
 "nbformat_minor": 2
}
